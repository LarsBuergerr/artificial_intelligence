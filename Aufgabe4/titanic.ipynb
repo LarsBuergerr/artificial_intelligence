{
 "cells": [
  {
   "attachments": {},
   "cell_type": "markdown",
   "metadata": {},
   "source": [
    "Trainingsdatenset einlesen"
   ]
  },
  {
   "cell_type": "code",
   "execution_count": 14,
   "metadata": {},
   "outputs": [],
   "source": [
    "import pandas as pd\n",
    "training_set = pd.read_csv('data/train.csv')\n"
   ]
  },
  {
   "attachments": {},
   "cell_type": "markdown",
   "metadata": {},
   "source": [
    "Trainingsset aufteilen in 80% training und 20% validierung"
   ]
  },
  {
   "cell_type": "code",
   "execution_count": 15,
   "metadata": {},
   "outputs": [],
   "source": [
    "from sklearn.model_selection import train_test_split\n",
    "train_set,validation_set = train_test_split(training_set, test_size=0.2)"
   ]
  },
  {
   "attachments": {},
   "cell_type": "markdown",
   "metadata": {},
   "source": [
    "Regel erstellen für das Überleben eines Passagiers aufgrund der Klasse."
   ]
  },
  {
   "cell_type": "code",
   "execution_count": 16,
   "metadata": {},
   "outputs": [
    {
     "name": "stdout",
     "output_type": "stream",
     "text": [
      "Class 1: 0.6411764705882353\n",
      "Class 2: 0.49333333333333335\n",
      "Class 3: 0.23214285714285715\n",
      "{1: 0.6411764705882353, 2: 0.49333333333333335, 3: 0.23214285714285715}\n"
     ]
    }
   ],
   "source": [
    "class_all = {1:0, 2:0, 3:0}\n",
    "class_survived = {1:0, 2:0, 3:0}\n",
    "\n",
    "for entry in train_set.iterrows():\n",
    "    class_all[entry[1]['Pclass']] += 1\n",
    "    class_survived[entry[1]['Pclass']] += entry[1]['Survived']\n",
    "\n",
    "# print out the survival rate for each class\n",
    "class_survival_rate = {1:0, 2:0, 3:0}\n",
    "for i in range(1,4):\n",
    "    class_survival_rate[i] = class_survived[i] / class_all[i]\n",
    "    print('Class ' + str(i) + ': ' + str(class_survival_rate[i]))\n",
    "\n",
    "print(class_survival_rate)\n",
    "\n"
   ]
  },
  {
   "attachments": {},
   "cell_type": "markdown",
   "metadata": {},
   "source": [
    "Regel auf Validierungsset anwenden und Accuracy berechnen"
   ]
  },
  {
   "cell_type": "code",
   "execution_count": 17,
   "metadata": {},
   "outputs": [
    {
     "name": "stdout",
     "output_type": "stream",
     "text": [
      "179\n",
      "712\n",
      "{'right': 112, 'wrong': 67}\n",
      "0.6256983240223464\n"
     ]
    }
   ],
   "source": [
    "import random\n",
    "\n",
    "pred_rate = {'right': 0, 'wrong': 0}\n",
    "print(len(validation_set))\n",
    "print(len(train_set))\n",
    "\n",
    "for entry in validation_set.iterrows():\n",
    "    # get class of passenger and generate prediciton based on survival rate\n",
    "    pclass = class_survival_rate[entry[1]['Pclass']]\n",
    "\n",
    "    prediction = (random.random() < pclass)\n",
    "    \n",
    "    # compare prediction with actual survival\n",
    "    if prediction == entry[1]['Survived']:\n",
    "        pred_rate['right'] += 1\n",
    "    else:\n",
    "        pred_rate['wrong'] += 1\n",
    "\n",
    "print(pred_rate)\n",
    "print(pred_rate['right'] / (pred_rate['right'] + pred_rate['wrong']))\n",
    "    \n",
    "\n"
   ]
  },
  {
   "attachments": {},
   "cell_type": "markdown",
   "metadata": {},
   "source": [
    "import test datenset und wende Regel auf jeden Passenger an"
   ]
  },
  {
   "cell_type": "code",
   "execution_count": 18,
   "metadata": {},
   "outputs": [],
   "source": [
    "test_set = pd.read_csv('data/test.csv')\n",
    "\n",
    "# Make predictions for each passenger in the test set\n",
    "predictions = []\n",
    "for idx, entry in test_set.iterrows():\n",
    "    pclass = class_survival_rate[entry['Pclass']]\n",
    "    prediction = (random.random() < pclass)\n",
    "    predictions.append(int(prediction))\n",
    "\n",
    "# Create the output DataFrame with passenger IDs and predictions\n",
    "output = pd.DataFrame({'PassengerId': test_set['PassengerId'], 'Survived': predictions})\n",
    "\n",
    "# Write the output DataFrame to a CSV file\n",
    "output.to_csv('submission.csv', index=False)\n"
   ]
  },
  {
   "attachments": {},
   "cell_type": "markdown",
   "metadata": {},
   "source": [
    "Logistische Regression mit Pclass"
   ]
  },
  {
   "cell_type": "code",
   "execution_count": 19,
   "metadata": {},
   "outputs": [
    {
     "name": "stdout",
     "output_type": "stream",
     "text": [
      "0.664804469273743\n"
     ]
    },
    {
     "name": "stderr",
     "output_type": "stream",
     "text": [
      "C:\\Users\\Lars\\AppData\\Local\\Packages\\PythonSoftwareFoundation.Python.3.10_qbz5n2kfra8p0\\LocalCache\\local-packages\\Python310\\site-packages\\sklearn\\utils\\validation.py:1143: DataConversionWarning: A column-vector y was passed when a 1d array was expected. Please change the shape of y to (n_samples, ), for example using ravel().\n",
      "  y = column_or_1d(y, warn=True)\n"
     ]
    }
   ],
   "source": [
    "import sklearn.linear_model as lm\n",
    "\n",
    "# validation_set['Age'].fillna(train_set['Age'].mean(), inplace=True)\n",
    "# train_set[\"Age\"].fillna(train_set[\"Age\"].median(skipna=True), inplace=True)\n",
    "\n",
    "# Create a new logistic regression model\n",
    "model = lm.LogisticRegression()\n",
    "\n",
    "# Train the model using pClass and Sex\n",
    "model.fit(train_set[['Pclass']], train_set[['Survived']])\n",
    "\n",
    "# Calculate the accuracy on the validation se\n",
    "\n",
    "print(model.score(validation_set[['Pclass']], validation_set['Survived']))"
   ]
  },
  {
   "attachments": {},
   "cell_type": "markdown",
   "metadata": {},
   "source": [
    "Use get_dummies for better results"
   ]
  },
  {
   "cell_type": "code",
   "execution_count": 20,
   "metadata": {},
   "outputs": [
    {
     "name": "stdout",
     "output_type": "stream",
     "text": [
      "Accuracy: ~ 68 %\n"
     ]
    }
   ],
   "source": [
    "from sklearn.model_selection import train_test_split\n",
    "import pandas as pd\n",
    "from sklearn.linear_model import LogisticRegression\n",
    "from sklearn.metrics import accuracy_score\n",
    "import math\n",
    "\n",
    "train_data = pd.read_csv(\"data/train.csv\")\n",
    "test_data = pd.read_csv(\"data/test.csv\")\n",
    "\n",
    "x, x_tt = train_test_split(train_data, test_size=0.2) #Split data into a trainining set = x and a test training set = x_tt to calculate accuracy later\n",
    "\n",
    "model = LogisticRegression() #Setup the model\n",
    "\n",
    "y      = x[\"Survived\"]      #specify the y-value to train the model\n",
    "y_tt   = x_tt[\"Survived\"]   #do the same for the training test data set\n",
    "\n",
    "features = [\"Pclass\"] #specify the features using a list to play with the parameters later\n",
    "x      = pd.get_dummies(x[features]) #define the training input data\n",
    "x_tt   = pd.get_dummies(x_tt[features])  #defines the training test data to calculate accuracy\n",
    "\n",
    "x_test = pd.get_dummies(test_data[features]) #define the real test data input\n",
    "\n",
    "model.fit(x, y) #train the model with the training data\n",
    "\n",
    "predictions_train = model.predict(x_tt) #prediction using the test training data set\n",
    "\n",
    "predictions       = model.predict(x_test) #prediction using the real test data provided by kaggle\n",
    "\n",
    "acc = accuracy_score(y_tt, predictions_train)\n",
    "print(\"Accuracy: ~\", math.ceil(acc * 100), \"%\")"
   ]
  },
  {
   "attachments": {},
   "cell_type": "markdown",
   "metadata": {},
   "source": [
    "Add age as feature"
   ]
  },
  {
   "cell_type": "code",
   "execution_count": 21,
   "metadata": {},
   "outputs": [
    {
     "name": "stdout",
     "output_type": "stream",
     "text": [
      "Accuracy: ~ 68 %\n"
     ]
    }
   ],
   "source": [
    "from sklearn.model_selection import train_test_split\n",
    "import pandas as pd\n",
    "from sklearn.linear_model import LogisticRegression\n",
    "from sklearn.metrics import accuracy_score\n",
    "import math\n",
    "\n",
    "train_data = pd.read_csv(\"data/train.csv\")\n",
    "test_data = pd.read_csv(\"data/test.csv\")\n",
    "\n",
    "train_data[\"Age\"].fillna(train_data[\"Age\"].median(skipna=True), inplace=True) #Fill missing age in train data\n",
    "test_data[\"Age\"].fillna(test_data[\"Age\"].median(skipna=True), inplace=True)   #Fill missing age in test data\n",
    "\n",
    "x, x_tt = train_test_split(train_data, test_size=0.2) #Split data into a trainining set = x and a test training set = x_tt to calculate accuracy later\n",
    "\n",
    "model = LogisticRegression() #Setup the model\n",
    "\n",
    "y      = x[\"Survived\"]      #specify the y-value to train the model\n",
    "y_tt   = x_tt[\"Survived\"]   #do the same for the training test data set\n",
    "\n",
    "features = [\"Pclass\", \"Age\"] #specify the features using a list to play with the parameters later\n",
    "x      = pd.get_dummies(x[features]) #define the training input data\n",
    "x_tt   = pd.get_dummies(x_tt[features])  #defines the training test data to calculate accuracy\n",
    "\n",
    "x_test = pd.get_dummies(test_data[features]) #define the real test data input\n",
    "\n",
    "model.fit(x, y) #train the model with the training data\n",
    "\n",
    "predictions_train = model.predict(x_tt) #prediction using the test training data set\n",
    "\n",
    "predictions       = model.predict(x_test) #prediction using the real test data provided by kaggle\n",
    "\n",
    "acc = accuracy_score(y_tt, predictions_train)\n",
    "print(\"Accuracy: ~\", math.ceil(acc * 100), \"%\")"
   ]
  },
  {
   "attachments": {},
   "cell_type": "markdown",
   "metadata": {},
   "source": [
    "Use RandomForestClassifier as model"
   ]
  },
  {
   "cell_type": "code",
   "execution_count": 30,
   "metadata": {},
   "outputs": [
    {
     "name": "stdout",
     "output_type": "stream",
     "text": [
      "Accuracy: ~ 84 %\n"
     ]
    }
   ],
   "source": [
    "from sklearn.model_selection import train_test_split\n",
    "import pandas as pd\n",
    "from sklearn.linear_model import LogisticRegression\n",
    "from sklearn.metrics import accuracy_score\n",
    "import math\n",
    "from sklearn.ensemble import RandomForestClassifier\n",
    "\n",
    "train_data = pd.read_csv(\"data/train.csv\")\n",
    "test_data = pd.read_csv(\"data/test.csv\")\n",
    "\n",
    "train_data[\"Age\"].fillna(train_data[\"Age\"].median(skipna=True), inplace=True) #Fill missing age in train data\n",
    "test_data[\"Age\"].fillna(test_data[\"Age\"].median(skipna=True), inplace=True)   #Fill missing age in test data\n",
    "\n",
    "x, x_tt = train_test_split(train_data, test_size=0.2) #Split data into a trainining set = x and a test training set = x_tt to calculate accuracy later\n",
    "\n",
    "model = RandomForestClassifier(n_estimators=100, max_depth=5, random_state=1) #Setup the model\n",
    "\n",
    "y      = x[\"Survived\"]      #specify the y-value to train the model\n",
    "y_tt   = x_tt[\"Survived\"]   #do the same for the training test data set\n",
    "\n",
    "features = [\"Pclass\", \"Age\", \"Sex\", \"SibSp\", \"Parch\"] #specify the features using a list to play with the parameters later\n",
    "x      = pd.get_dummies(x[features]) #define the training input data\n",
    "x_tt   = pd.get_dummies(x_tt[features])  #defines the training test data to calculate accuracy\n",
    "\n",
    "x_test = pd.get_dummies(test_data[features]) #define the real test data input\n",
    "\n",
    "model.fit(x, y) #train the model with the training data\n",
    "\n",
    "predictions_train = model.predict(x_tt) #prediction using the test training data set\n",
    "\n",
    "predictions       = model.predict(x_test) #prediction using the real test data provided by kaggle\n",
    "\n",
    "acc = accuracy_score(y_tt, predictions_train)\n",
    "print(\"Accuracy: ~\", math.ceil(acc * 100), \"%\")"
   ]
  },
  {
   "attachments": {},
   "cell_type": "markdown",
   "metadata": {},
   "source": [
    "Submit to Kaggle"
   ]
  },
  {
   "cell_type": "code",
   "execution_count": 32,
   "metadata": {},
   "outputs": [],
   "source": [
    "output = pd.DataFrame({'PassengerId': test_set['PassengerId'], 'Survived': predictions})\n",
    "\n",
    "# Write the output DataFrame to a CSV file\n",
    "output.to_csv('submission_new.csv', index=False)"
   ]
  }
 ],
 "metadata": {
  "kernelspec": {
   "display_name": "Python 3",
   "language": "python",
   "name": "python3"
  },
  "language_info": {
   "codemirror_mode": {
    "name": "ipython",
    "version": 3
   },
   "file_extension": ".py",
   "mimetype": "text/x-python",
   "name": "python",
   "nbconvert_exporter": "python",
   "pygments_lexer": "ipython3",
   "version": "3.10.11"
  },
  "orig_nbformat": 4
 },
 "nbformat": 4,
 "nbformat_minor": 2
}
