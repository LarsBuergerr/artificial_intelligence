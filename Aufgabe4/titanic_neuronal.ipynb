{
 "cells": [
  {
   "cell_type": "code",
   "execution_count": 20,
   "metadata": {},
   "outputs": [
    {
     "name": "stdout",
     "output_type": "stream",
     "text": [
      "Model: \"sequential_4\"\n",
      "_________________________________________________________________\n",
      " Layer (type)                Output Shape              Param #   \n",
      "=================================================================\n",
      " dense_3 (Dense)             (None, 100)               500       \n",
      "                                                                 \n",
      " dense_4 (Dense)             (None, 1)                 101       \n",
      "                                                                 \n",
      "=================================================================\n",
      "Total params: 601\n",
      "Trainable params: 601\n",
      "Non-trainable params: 0\n",
      "_________________________________________________________________\n"
     ]
    }
   ],
   "source": [
    "import tensorflow as tf\n",
    "import tensorflow.keras \n",
    "from tensorflow.keras.models import Sequential\n",
    "from tensorflow.keras.layers import Dense\n",
    "model = Sequential()\n",
    "model.add(Dense(100, activation='sigmoid', batch_input_shape=(None, 4))) #We have 4 input features\n",
    "#...\n",
    "model.add(Dense(1, activation='sigmoid'))\n",
    "opt = tf.keras.optimizers.Adam(learning_rate=1e-3)\n",
    "model.compile(loss=tf.keras.losses.BinaryCrossentropy(),\n",
    "              optimizer=opt,\n",
    "              metrics=['accuracy'])\n",
    "model.summary()"
   ]
  },
  {
   "attachments": {},
   "cell_type": "markdown",
   "metadata": {},
   "source": [
    "Imports"
   ]
  },
  {
   "cell_type": "code",
   "execution_count": 21,
   "metadata": {},
   "outputs": [],
   "source": [
    "import tensorflow as tf\n",
    "import tensorflow.keras\n",
    "\n",
    "from tensorflow.keras.models import Sequential\n",
    "from tensorflow.keras.layers import Dense\n",
    "from tensorflow.keras.layers import BatchNormalization\n",
    "from tensorflow.keras.layers import Normalization\n",
    "from tensorflow.keras.layers import Dropout\n",
    "\n",
    "import pandas as pd\n",
    "\n",
    "import numpy as np\n",
    "\n",
    "# Nice function to split a known data set to a test and trin set\n",
    "from sklearn.model_selection import train_test_split\n",
    "\n",
    "# Nice function for plotting\n",
    "# Install via pip: pip install tensorflow-history-plot\n",
    "from tensorflow_history_plot import show_acc"
   ]
  },
  {
   "attachments": {},
   "cell_type": "markdown",
   "metadata": {},
   "source": [
    "Reading data out of train.csv file"
   ]
  },
  {
   "cell_type": "code",
   "execution_count": 22,
   "metadata": {},
   "outputs": [
    {
     "name": "stdout",
     "output_type": "stream",
     "text": [
      "<class 'pandas.core.frame.DataFrame'>\n",
      "RangeIndex: 891 entries, 0 to 890\n",
      "Data columns (total 12 columns):\n",
      " #   Column       Non-Null Count  Dtype  \n",
      "---  ------       --------------  -----  \n",
      " 0   PassengerId  891 non-null    int64  \n",
      " 1   Survived     891 non-null    int64  \n",
      " 2   Pclass       891 non-null    int64  \n",
      " 3   Name         891 non-null    object \n",
      " 4   Sex          891 non-null    object \n",
      " 5   Age          714 non-null    float64\n",
      " 6   SibSp        891 non-null    int64  \n",
      " 7   Parch        891 non-null    int64  \n",
      " 8   Ticket       891 non-null    object \n",
      " 9   Fare         891 non-null    float64\n",
      " 10  Cabin        204 non-null    object \n",
      " 11  Embarked     889 non-null    object \n",
      "dtypes: float64(2), int64(5), object(5)\n",
      "memory usage: 83.7+ KB\n"
     ]
    }
   ],
   "source": [
    "train_data = pd.read_csv(\"data/train.csv\")\n",
    "train_data.info()"
   ]
  },
  {
   "attachments": {},
   "cell_type": "markdown",
   "metadata": {},
   "source": [
    "Data preparation"
   ]
  },
  {
   "cell_type": "code",
   "execution_count": 23,
   "metadata": {},
   "outputs": [
    {
     "name": "stdout",
     "output_type": "stream",
     "text": [
      "<class 'pandas.core.frame.DataFrame'>\n",
      "RangeIndex: 891 entries, 0 to 890\n",
      "Data columns (total 5 columns):\n",
      " #   Column      Non-Null Count  Dtype  \n",
      "---  ------      --------------  -----  \n",
      " 0   Pclass      891 non-null    int64  \n",
      " 1   Survived    891 non-null    int64  \n",
      " 2   Age         891 non-null    float64\n",
      " 3   Sex_female  891 non-null    bool   \n",
      " 4   Sex_male    891 non-null    bool   \n",
      "dtypes: bool(2), float64(1), int64(2)\n",
      "memory usage: 22.7 KB\n"
     ]
    }
   ],
   "source": [
    "# Read data again in case you have already manipulated it\n",
    "train_data = pd.read_csv(\"data/train.csv\") \n",
    "\n",
    "# Fill missing age in train data\n",
    "train_data[\"Age\"].fillna(train_data[\"Age\"].median(skipna=True), inplace=True) \n",
    "\n",
    "# Define features we want to use\n",
    "features = [\"Pclass\", \"Survived\", \"Sex\", \"Age\"]\n",
    "\n",
    "# Get the features we want to use\n",
    "train_data = pd.get_dummies(train_data[features])\n",
    "train_data.info()"
   ]
  },
  {
   "attachments": {},
   "cell_type": "markdown",
   "metadata": {},
   "source": [
    "Split data into validation and trainings set"
   ]
  },
  {
   "cell_type": "code",
   "execution_count": 24,
   "metadata": {},
   "outputs": [
    {
     "name": "stdout",
     "output_type": "stream",
     "text": [
      "Input features shape: (891, 4)\n",
      "Labels shape: (891,)\n"
     ]
    }
   ],
   "source": [
    "X = train_data.drop('Survived', axis=1, inplace=False)  # input data\n",
    "y = train_data['Survived']  # validation data\n",
    "\n",
    "print(f'Input features shape: {X.shape}')\n",
    "print(f'Labels shape: {y.shape}')"
   ]
  },
  {
   "cell_type": "code",
   "execution_count": 25,
   "metadata": {},
   "outputs": [],
   "source": [
    "X_train, X_val, y_train,y_val  = train_test_split(X, y, test_size=0.2, random_state=42)"
   ]
  },
  {
   "attachments": {},
   "cell_type": "markdown",
   "metadata": {},
   "source": [
    "Convert Data into float32 types "
   ]
  },
  {
   "cell_type": "code",
   "execution_count": 26,
   "metadata": {},
   "outputs": [],
   "source": [
    "X_train = np.asarray(X_train).astype('float32')\n",
    "X_val = np.asarray(X_val).astype('float32')\n",
    "y_train = np.asarray(y_train).astype('float32')\n",
    "y_val = np.asarray(y_val).astype('float32')"
   ]
  },
  {
   "attachments": {},
   "cell_type": "markdown",
   "metadata": {},
   "source": [
    "Define neural network"
   ]
  },
  {
   "cell_type": "code",
   "execution_count": 27,
   "metadata": {},
   "outputs": [],
   "source": [
    "model = Sequential()"
   ]
  },
  {
   "attachments": {},
   "cell_type": "markdown",
   "metadata": {},
   "source": [
    "Add the layers to the model"
   ]
  },
  {
   "cell_type": "code",
   "execution_count": 28,
   "metadata": {},
   "outputs": [
    {
     "name": "stdout",
     "output_type": "stream",
     "text": [
      "Model: \"sequential_5\"\n",
      "_________________________________________________________________\n",
      " Layer (type)                Output Shape              Param #   \n",
      "=================================================================\n",
      " Layer_1 (Dense)             (None, 125)               625       \n",
      "                                                                 \n",
      " Layer_2 (Dense)             (None, 500)               63000     \n",
      "                                                                 \n",
      " Layer_3 (Dense)             (None, 750)               375750    \n",
      "                                                                 \n",
      " Layer_4 (Dense)             (None, 1)                 751       \n",
      "                                                                 \n",
      "=================================================================\n",
      "Total params: 440,126\n",
      "Trainable params: 440,126\n",
      "Non-trainable params: 0\n",
      "_________________________________________________________________\n"
     ]
    }
   ],
   "source": [
    "model.add(Dense(125, activation='sigmoid', batch_input_shape=(None, 4), name=\"Layer_1\")) #We have 4 input features\n",
    "model.add(Dense(500, activation='sigmoid', name=\"Layer_2\"))\n",
    "model.add(Dense(750, activation='sigmoid', name=\"Layer_3\"))\n",
    "model.add(Dense(1, activation='sigmoid', name=\"Layer_4\"))\n",
    "\n",
    "# Ask lecturer why this is not possible???\n",
    "#model.add(Dense(1, activation=\"softmax\", name=\"Layer_5\"))\n",
    "\n",
    "opt = tf.keras.optimizers.Adam(learning_rate=1e-3)\n",
    "\n",
    "model.compile(loss=tf.keras.losses.BinaryCrossentropy(),\n",
    "              optimizer=opt,\n",
    "              metrics=['accuracy'])\n",
    "\n",
    "model.summary()"
   ]
  },
  {
   "attachments": {},
   "cell_type": "markdown",
   "metadata": {},
   "source": [
    "train the model"
   ]
  },
  {
   "cell_type": "code",
   "execution_count": 29,
   "metadata": {},
   "outputs": [
    {
     "name": "stdout",
     "output_type": "stream",
     "text": [
      "Epoch 1/50\n",
      "23/23 [==============================] - 1s 8ms/step - loss: 0.7479 - accuracy: 0.5070 - val_loss: 0.6995 - val_accuracy: 0.5866\n",
      "Epoch 2/50\n",
      "23/23 [==============================] - 0s 3ms/step - loss: 0.6708 - accuracy: 0.6236 - val_loss: 0.6713 - val_accuracy: 0.5978\n",
      "Epoch 3/50\n",
      "23/23 [==============================] - 0s 3ms/step - loss: 0.6597 - accuracy: 0.6320 - val_loss: 0.6766 - val_accuracy: 0.6425\n",
      "Epoch 4/50\n",
      "23/23 [==============================] - 0s 3ms/step - loss: 0.6877 - accuracy: 0.6096 - val_loss: 0.6685 - val_accuracy: 0.6592\n",
      "Epoch 5/50\n",
      "23/23 [==============================] - 0s 3ms/step - loss: 0.6811 - accuracy: 0.5955 - val_loss: 0.7103 - val_accuracy: 0.5922\n",
      "Epoch 6/50\n",
      "23/23 [==============================] - 0s 4ms/step - loss: 0.6745 - accuracy: 0.6025 - val_loss: 0.6914 - val_accuracy: 0.5978\n",
      "Epoch 7/50\n",
      "23/23 [==============================] - 0s 4ms/step - loss: 0.6373 - accuracy: 0.6447 - val_loss: 0.6266 - val_accuracy: 0.5978\n",
      "Epoch 8/50\n",
      "23/23 [==============================] - 0s 4ms/step - loss: 0.6189 - accuracy: 0.6559 - val_loss: 0.6035 - val_accuracy: 0.6034\n",
      "Epoch 9/50\n",
      "23/23 [==============================] - 0s 5ms/step - loss: 0.5698 - accuracy: 0.7205 - val_loss: 0.6250 - val_accuracy: 0.6145\n",
      "Epoch 10/50\n",
      "23/23 [==============================] - 0s 5ms/step - loss: 0.5355 - accuracy: 0.7458 - val_loss: 0.5168 - val_accuracy: 0.7765\n",
      "Epoch 11/50\n",
      "23/23 [==============================] - 0s 4ms/step - loss: 0.4953 - accuracy: 0.7781 - val_loss: 0.5206 - val_accuracy: 0.7765\n",
      "Epoch 12/50\n",
      "23/23 [==============================] - 0s 4ms/step - loss: 0.4896 - accuracy: 0.7907 - val_loss: 0.4677 - val_accuracy: 0.7709\n",
      "Epoch 13/50\n",
      "23/23 [==============================] - 0s 4ms/step - loss: 0.4957 - accuracy: 0.7823 - val_loss: 0.4547 - val_accuracy: 0.7877\n",
      "Epoch 14/50\n",
      "23/23 [==============================] - 0s 3ms/step - loss: 0.4648 - accuracy: 0.8006 - val_loss: 0.4940 - val_accuracy: 0.7598\n",
      "Epoch 15/50\n",
      "23/23 [==============================] - 0s 4ms/step - loss: 0.4785 - accuracy: 0.7879 - val_loss: 0.4820 - val_accuracy: 0.7542\n",
      "Epoch 16/50\n",
      "23/23 [==============================] - 0s 3ms/step - loss: 0.4806 - accuracy: 0.7921 - val_loss: 0.4631 - val_accuracy: 0.7877\n",
      "Epoch 17/50\n",
      "23/23 [==============================] - 0s 3ms/step - loss: 0.4582 - accuracy: 0.7921 - val_loss: 0.4607 - val_accuracy: 0.7989\n",
      "Epoch 18/50\n",
      "23/23 [==============================] - 0s 4ms/step - loss: 0.4694 - accuracy: 0.7823 - val_loss: 0.4652 - val_accuracy: 0.7821\n",
      "Epoch 19/50\n",
      "23/23 [==============================] - 0s 3ms/step - loss: 0.4598 - accuracy: 0.7978 - val_loss: 0.4515 - val_accuracy: 0.7877\n",
      "Epoch 20/50\n",
      "23/23 [==============================] - 0s 3ms/step - loss: 0.4560 - accuracy: 0.7963 - val_loss: 0.4373 - val_accuracy: 0.7877\n",
      "Epoch 21/50\n",
      "23/23 [==============================] - 0s 3ms/step - loss: 0.4630 - accuracy: 0.8118 - val_loss: 0.4410 - val_accuracy: 0.7877\n",
      "Epoch 22/50\n",
      "23/23 [==============================] - 0s 3ms/step - loss: 0.4551 - accuracy: 0.7992 - val_loss: 0.4413 - val_accuracy: 0.7877\n",
      "Epoch 23/50\n",
      "23/23 [==============================] - 0s 3ms/step - loss: 0.4656 - accuracy: 0.7992 - val_loss: 0.4610 - val_accuracy: 0.7765\n",
      "Epoch 24/50\n",
      "23/23 [==============================] - 0s 3ms/step - loss: 0.4681 - accuracy: 0.7893 - val_loss: 0.4763 - val_accuracy: 0.7877\n",
      "Epoch 25/50\n",
      "23/23 [==============================] - 0s 3ms/step - loss: 0.4632 - accuracy: 0.8034 - val_loss: 0.4342 - val_accuracy: 0.7933\n",
      "Epoch 26/50\n",
      "23/23 [==============================] - 0s 4ms/step - loss: 0.4472 - accuracy: 0.7978 - val_loss: 0.4352 - val_accuracy: 0.7877\n",
      "Epoch 27/50\n",
      "23/23 [==============================] - 0s 3ms/step - loss: 0.4486 - accuracy: 0.7907 - val_loss: 0.4342 - val_accuracy: 0.7933\n",
      "Epoch 28/50\n",
      "23/23 [==============================] - 0s 3ms/step - loss: 0.4594 - accuracy: 0.7992 - val_loss: 0.4636 - val_accuracy: 0.7709\n",
      "Epoch 29/50\n",
      "23/23 [==============================] - 0s 3ms/step - loss: 0.4495 - accuracy: 0.8006 - val_loss: 0.4341 - val_accuracy: 0.7933\n",
      "Epoch 30/50\n",
      "23/23 [==============================] - 0s 3ms/step - loss: 0.4588 - accuracy: 0.7963 - val_loss: 0.4345 - val_accuracy: 0.7877\n",
      "Epoch 31/50\n",
      "23/23 [==============================] - 0s 3ms/step - loss: 0.4629 - accuracy: 0.7907 - val_loss: 0.4444 - val_accuracy: 0.7933\n",
      "Epoch 32/50\n",
      "23/23 [==============================] - 0s 3ms/step - loss: 0.4472 - accuracy: 0.7992 - val_loss: 0.4411 - val_accuracy: 0.7877\n",
      "Epoch 33/50\n",
      "23/23 [==============================] - 0s 3ms/step - loss: 0.4475 - accuracy: 0.7978 - val_loss: 0.4343 - val_accuracy: 0.7933\n",
      "Epoch 34/50\n",
      "23/23 [==============================] - 0s 3ms/step - loss: 0.4461 - accuracy: 0.8048 - val_loss: 0.4324 - val_accuracy: 0.7709\n",
      "Epoch 35/50\n",
      "23/23 [==============================] - 0s 3ms/step - loss: 0.4464 - accuracy: 0.7921 - val_loss: 0.4357 - val_accuracy: 0.7709\n",
      "Epoch 36/50\n",
      "23/23 [==============================] - 0s 3ms/step - loss: 0.4483 - accuracy: 0.8020 - val_loss: 0.4357 - val_accuracy: 0.7933\n",
      "Epoch 37/50\n",
      "23/23 [==============================] - 0s 3ms/step - loss: 0.4478 - accuracy: 0.7992 - val_loss: 0.4265 - val_accuracy: 0.7933\n",
      "Epoch 38/50\n",
      "23/23 [==============================] - 0s 3ms/step - loss: 0.4410 - accuracy: 0.8006 - val_loss: 0.4304 - val_accuracy: 0.7877\n",
      "Epoch 39/50\n",
      "23/23 [==============================] - 0s 3ms/step - loss: 0.4387 - accuracy: 0.8104 - val_loss: 0.4313 - val_accuracy: 0.7933\n",
      "Epoch 40/50\n",
      "23/23 [==============================] - 0s 3ms/step - loss: 0.4429 - accuracy: 0.7992 - val_loss: 0.4341 - val_accuracy: 0.7933\n",
      "Epoch 41/50\n",
      "23/23 [==============================] - 0s 3ms/step - loss: 0.4381 - accuracy: 0.8076 - val_loss: 0.4302 - val_accuracy: 0.8045\n",
      "Epoch 42/50\n",
      "23/23 [==============================] - 0s 3ms/step - loss: 0.4426 - accuracy: 0.8034 - val_loss: 0.4332 - val_accuracy: 0.8045\n",
      "Epoch 43/50\n",
      "23/23 [==============================] - 0s 3ms/step - loss: 0.4423 - accuracy: 0.8020 - val_loss: 0.4352 - val_accuracy: 0.7933\n",
      "Epoch 44/50\n",
      "23/23 [==============================] - 0s 3ms/step - loss: 0.4401 - accuracy: 0.7992 - val_loss: 0.4438 - val_accuracy: 0.7933\n",
      "Epoch 45/50\n",
      "23/23 [==============================] - 0s 4ms/step - loss: 0.4444 - accuracy: 0.8048 - val_loss: 0.4320 - val_accuracy: 0.7877\n",
      "Epoch 46/50\n",
      "23/23 [==============================] - 0s 3ms/step - loss: 0.4575 - accuracy: 0.8062 - val_loss: 0.4328 - val_accuracy: 0.7877\n",
      "Epoch 47/50\n",
      "23/23 [==============================] - 0s 3ms/step - loss: 0.4509 - accuracy: 0.7949 - val_loss: 0.4321 - val_accuracy: 0.7877\n",
      "Epoch 48/50\n",
      "23/23 [==============================] - 0s 3ms/step - loss: 0.4472 - accuracy: 0.7978 - val_loss: 0.4287 - val_accuracy: 0.7821\n",
      "Epoch 49/50\n",
      "23/23 [==============================] - 0s 3ms/step - loss: 0.4373 - accuracy: 0.7963 - val_loss: 0.4303 - val_accuracy: 0.7877\n",
      "Epoch 50/50\n",
      "23/23 [==============================] - 0s 3ms/step - loss: 0.4489 - accuracy: 0.8090 - val_loss: 0.4366 - val_accuracy: 0.7598\n"
     ]
    }
   ],
   "source": [
    "#history = model.fit(x, y, epochs=100, batch_size=32, validation_split=0.2, verbose=0)\n",
    "history = model.fit(X_train, y_train,\n",
    "                    validation_data=(X_val, y_val),\n",
    "                    epochs=50,\n",
    "                    batch_size=32)"
   ]
  },
  {
   "attachments": {},
   "cell_type": "markdown",
   "metadata": {},
   "source": [
    "Plot the loss and accuracy"
   ]
  },
  {
   "cell_type": "code",
   "execution_count": 30,
   "metadata": {},
   "outputs": [
    {
     "data": {
      "image/png": "[encoded data removed]",
      "text/plain": [
       "<Figure size 640x480 with 4 Axes>"
      ]
     },
     "metadata": {},
     "output_type": "display_data"
    }
   ],
   "source": [
    "show_acc.plot(history)"
   ]
  }
 ],
 "metadata": {
  "kernelspec": {
   "display_name": "Python 3",
   "language": "python",
   "name": "python3"
  },
  "language_info": {
   "codemirror_mode": {
    "name": "ipython",
    "version": 3
   },
   "file_extension": ".py",
   "mimetype": "text/x-python",
   "name": "python",
   "nbconvert_exporter": "python",
   "pygments_lexer": "ipython3",
   "version": "3.10.11"
  },
  "orig_nbformat": 4
 },
 "nbformat": 4,
 "nbformat_minor": 2
}
