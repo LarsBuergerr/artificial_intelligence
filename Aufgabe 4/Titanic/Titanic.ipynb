{
 "cells": [
  {
   "cell_type": "markdown",
   "source": [
    "Als erstes wollen wir das Trainingsdatenset einlesen."
   ],
   "metadata": {
    "collapsed": false
   }
  },
  {
   "cell_type": "code",
   "execution_count": 41,
   "metadata": {
    "collapsed": true,
    "ExecuteTime": {
     "end_time": "2023-05-09T13:18:21.318788100Z",
     "start_time": "2023-05-09T13:18:21.288789300Z"
    }
   },
   "outputs": [
    {
     "name": "stdout",
     "output_type": "stream",
     "text": [
      "<class 'pandas.core.frame.DataFrame'>\n"
     ]
    }
   ],
   "source": [
    "import pandas as pd\n",
    "original_data = pd.read_csv(\"train.csv\")\n",
    "print(type(original_data))"
   ]
  },
  {
   "cell_type": "markdown",
   "source": [
    "Nun soll dieses Trainingsdatenset noch mal aufgeteilt werden in ein Validierungsdatenset (20%) und in ein eigentliches Trainigsdatenset (80%)"
   ],
   "metadata": {
    "collapsed": false
   }
  },
  {
   "cell_type": "code",
   "execution_count": 42,
   "outputs": [
    {
     "name": "stdout",
     "output_type": "stream",
     "text": [
      "712\n",
      "179\n"
     ]
    }
   ],
   "source": [
    "from sklearn.model_selection import train_test_split\n",
    "\n",
    "training_set, validation_set = train_test_split(original_data, test_size=0.2)\n",
    "print(len(training_set))\n",
    "print(len(validation_set))"
   ],
   "metadata": {
    "collapsed": false,
    "ExecuteTime": {
     "end_time": "2023-05-09T13:18:21.318788100Z",
     "start_time": "2023-05-09T13:18:21.298289100Z"
    }
   }
  },
  {
   "cell_type": "markdown",
   "source": [
    "Nun sollen wir eine Regel für das Überleben alleine aufgrund der Klasse des Tickets (Pclass) definieren und auf unserem neuen Trainingsset definieren"
   ],
   "metadata": {
    "collapsed": false
   }
  },
  {
   "cell_type": "code",
   "execution_count": 43,
   "outputs": [
    {
     "name": "stdout",
     "output_type": "stream",
     "text": [
      "{1: 173, 2: 143, 3: 396}\n",
      "{1: 110, 2: 70, 3: 94}\n",
      "{1: 0.6358381502890174, 2: 0.48951048951048953, 3: 0.23737373737373738}\n"
     ]
    }
   ],
   "source": [
    "classes_passengers = {1: 0, 2:0, 3:0}\n",
    "classes_survived = {1: 0, 2:0, 3:0}\n",
    "\n",
    "for passenger in training_set.itertuples(index=False):\n",
    "    classes_survived[passenger[2]] += passenger[1]\n",
    "    classes_passengers[passenger[2]] += 1\n",
    "\n",
    "print(classes_passengers)\n",
    "print(classes_survived)\n",
    "\n",
    "class_survival_rate = {1: 0, 2:0, 3:0}\n",
    "for i in range(1,4):\n",
    "    class_survival_rate[i] = classes_survived[i] / classes_passengers[i]\n",
    "\n",
    "print(class_survival_rate)"
   ],
   "metadata": {
    "collapsed": false,
    "ExecuteTime": {
     "end_time": "2023-05-09T13:18:21.346787600Z",
     "start_time": "2023-05-09T13:18:21.306288Z"
    }
   }
  },
  {
   "cell_type": "markdown",
   "source": [
    "Anwenden der Überlebensregel auf unser Validierungsset"
   ],
   "metadata": {
    "collapsed": false
   }
  },
  {
   "cell_type": "code",
   "execution_count": 45,
   "outputs": [
    {
     "name": "stdout",
     "output_type": "stream",
     "text": [
      "korrekte Vorhersagen: 103\n",
      "Genauigkeit auf den Validierungsdaten: 0.5754189944134078\n"
     ]
    }
   ],
   "source": [
    "import random\n",
    "val_predictions = []\n",
    "for passenger in validation_set.itertuples(index=False):\n",
    "    predicted_survival = 1 if random.random() < class_survival_rate[passenger[2]] else 0\n",
    "    val_predictions.append(predicted_survival)\n",
    "\n",
    "correct_predictions = validation_set['Survived'] == val_predictions\n",
    "print(f\"korrekte Vorhersagen: {sum(correct_predictions)}\")\n",
    "accuracy = sum(correct_predictions) / len(correct_predictions)\n",
    "print(\"Genauigkeit auf den Validierungsdaten:\", accuracy)"
   ],
   "metadata": {
    "collapsed": false,
    "ExecuteTime": {
     "end_time": "2023-05-09T13:19:26.946362900Z",
     "start_time": "2023-05-09T13:19:26.936864700Z"
    }
   }
  },
  {
   "cell_type": "markdown",
   "source": [
    "Nun sollten wir dieselbe Funktion über die Testdaten von Kaggle laufen lassen"
   ],
   "metadata": {
    "collapsed": false
   }
  },
  {
   "cell_type": "code",
   "execution_count": 56,
   "outputs": [],
   "source": [
    "from pathlib import Path\n",
    "\n",
    "original_test_set = pd.read_csv(\"test.csv\")\n",
    "\n",
    "val_predictions = []\n",
    "for passenger in original_test_set.itertuples():\n",
    "    predicted_survival = 1 if random.random() < class_survival_rate[passenger[2]] else 0\n",
    "    val_predictions.append(predicted_survival)\n",
    "\n",
    "\n",
    "output = pd.DataFrame({'PassengerId': original_test_set[\"PassengerId\"], 'Survived': val_predictions})\n",
    "output.to_csv('my_submission.csv', index=False)\n",
    "\n"
   ],
   "metadata": {
    "collapsed": false,
    "ExecuteTime": {
     "end_time": "2023-05-09T13:37:21.803737100Z",
     "start_time": "2023-05-09T13:37:21.794237800Z"
    }
   }
  },
  {
   "cell_type": "markdown",
   "source": [
    "![alt text](img.png)"
   ],
   "metadata": {
    "collapsed": false
   }
  },
  {
   "cell_type": "markdown",
   "source": [
    " #### Logistische Regression mit Pclass\n",
    "\n",
    "Trainieren Sie eine logistische Regression mit den Variablen 'Pclass'. Verwenden Sie die Klasse sklearn.linear_model.LogisticRegression. Berechnen Sie die Accuracy auf dem Validierungsset."
   ],
   "metadata": {
    "collapsed": false
   }
  },
  {
   "cell_type": "code",
   "execution_count": 61,
   "outputs": [
    {
     "name": "stdout",
     "output_type": "stream",
     "text": [
      "0.6703910614525139\n",
      "Genauigkeit auf dem Validierungsset: 0.6703910614525139\n"
     ]
    },
    {
     "name": "stderr",
     "output_type": "stream",
     "text": [
      "C:\\Users\\haase\\AppData\\Local\\Programs\\Python\\Python310\\lib\\site-packages\\sklearn\\utils\\validation.py:1143: DataConversionWarning: A column-vector y was passed when a 1d array was expected. Please change the shape of y to (n_samples, ), for example using ravel().\n",
      "  y = column_or_1d(y, warn=True)\n"
     ]
    }
   ],
   "source": [
    "from sklearn.linear_model import LogisticRegression\n",
    "from sklearn.metrics import accuracy_score\n",
    "\n",
    "logReg = LogisticRegression()\n",
    "logReg.fit(training_set[[\"Pclass\"]], training_set[[\"Survived\"]])\n",
    "\n",
    "prediction = logReg.predict(validation_set[[\"Pclass\"]])\n",
    "\n",
    "accuracy = accuracy_score(validation_set[[\"Survived\"]], prediction)\n",
    "print(\"Genauigkeit auf dem Validierungsset:\", accuracy)\n",
    "\n",
    "print(logReg.score(validation_set[[\"Pclass\"]], validation_set[[\"Survived\"]]))"
   ],
   "metadata": {
    "collapsed": false,
    "ExecuteTime": {
     "end_time": "2023-05-09T13:59:00.505115800Z",
     "start_time": "2023-05-09T13:59:00.487116900Z"
    }
   }
  },
  {
   "cell_type": "markdown",
   "source": [
    "Dieser Code füllt alle leeren einträge in der Altersspalte mit dem Mittelwert der Alterswerte aus dem Trainingsset."
   ],
   "metadata": {
    "collapsed": false
   }
  },
  {
   "cell_type": "code",
   "execution_count": 63,
   "outputs": [
    {
     "name": "stdout",
     "output_type": "stream",
     "text": [
      "     PassengerId  Survived  Pclass   \n",
      "467          468         0       1  \\\n",
      "538          539         0       3   \n",
      "73            74         0       3   \n",
      "543          544         1       2   \n",
      "849          850         1       1   \n",
      "..           ...       ...     ...   \n",
      "489          490         1       3   \n",
      "802          803         1       1   \n",
      "46            47         0       3   \n",
      "408          409         0       3   \n",
      "147          148         0       3   \n",
      "\n",
      "                                             Name     Sex   Age  SibSp  Parch   \n",
      "467                    Smart, Mr. John Montgomery    male  56.0      0      0  \\\n",
      "538                      Risien, Mr. Samuel Beard    male  28.0      0      0   \n",
      "73                    Chronopoulos, Mr. Apostolos    male  26.0      1      0   \n",
      "543                             Beane, Mr. Edward    male  32.0      1      0   \n",
      "849  Goldenberg, Mrs. Samuel L (Edwiga Grabowska)  female  28.0      1      0   \n",
      "..                                            ...     ...   ...    ...    ...   \n",
      "489         Coutts, Master. Eden Leslie \"Neville\"    male   9.0      1      1   \n",
      "802           Carter, Master. William Thornton II    male  11.0      1      2   \n",
      "46                              Lennon, Mr. Denis    male  28.0      1      0   \n",
      "408             Birkeland, Mr. Hans Martin Monsen    male  21.0      0      0   \n",
      "147              Ford, Miss. Robina Maggie \"Ruby\"  female   9.0      2      2   \n",
      "\n",
      "         Ticket      Fare    Cabin Embarked  \n",
      "467      113792   26.5500      NaN        S  \n",
      "538      364498   14.5000      NaN        S  \n",
      "73         2680   14.4542      NaN        C  \n",
      "543        2908   26.0000      NaN        S  \n",
      "849       17453   89.1042      C92        C  \n",
      "..          ...       ...      ...      ...  \n",
      "489  C.A. 37671   15.9000      NaN        S  \n",
      "802      113760  120.0000  B96 B98        S  \n",
      "46       370371   15.5000      NaN        Q  \n",
      "408      312992    7.7750      NaN        S  \n",
      "147  W./C. 6608   34.3750      NaN        S  \n",
      "\n",
      "[712 rows x 12 columns]\n"
     ]
    }
   ],
   "source": [
    "validation_set[\"Age\"].fillna(training_set[\"Age\"].median(skipna=True), inplace=True)\n",
    "training_set[\"Age\"].fillna(training_set[\"Age\"].median(skipna=True), inplace=True)\n",
    "\n",
    "print(training_set)"
   ],
   "metadata": {
    "collapsed": false,
    "ExecuteTime": {
     "end_time": "2023-05-09T14:03:49.709036Z",
     "start_time": "2023-05-09T14:03:49.700034700Z"
    }
   }
  }
 ],
 "metadata": {
  "kernelspec": {
   "display_name": "Python 3",
   "language": "python",
   "name": "python3"
  },
  "language_info": {
   "codemirror_mode": {
    "name": "ipython",
    "version": 2
   },
   "file_extension": ".py",
   "mimetype": "text/x-python",
   "name": "python",
   "nbconvert_exporter": "python",
   "pygments_lexer": "ipython2",
   "version": "2.7.6"
  }
 },
 "nbformat": 4,
 "nbformat_minor": 0
}
